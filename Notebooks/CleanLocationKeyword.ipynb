{
 "metadata": {
  "language_info": {
   "codemirror_mode": {
    "name": "ipython",
    "version": 3
   },
   "file_extension": ".py",
   "mimetype": "text/x-python",
   "name": "python",
   "nbconvert_exporter": "python",
   "pygments_lexer": "ipython3",
   "version": "3.6.12-final"
  },
  "orig_nbformat": 2,
  "kernelspec": {
   "name": "python3",
   "display_name": "Python 3"
  }
 },
 "nbformat": 4,
 "nbformat_minor": 2,
 "cells": [
  {
   "cell_type": "code",
   "execution_count": 1,
   "metadata": {},
   "outputs": [],
   "source": [
    "import tensorflow as tf\n",
    "from tensorflow import keras\n",
    "from tensorflow.keras.preprocessing.text import Tokenizer\n",
    "from tensorflow.keras.preprocessing.sequence import pad_sequences\n",
    "\n",
    "import nltk\n",
    "from nltk.stem import SnowballStemmer\n",
    "stemmer = SnowballStemmer('english')\n",
    "\n",
    "import pandas as pd\n",
    "import re\n",
    "\n",
    "import emoji\n",
    "from geotext import GeoText"
   ]
  },
  {
   "cell_type": "code",
   "execution_count": 2,
   "metadata": {},
   "outputs": [],
   "source": [
    "paths = [\n",
    "    \"../data/csv/run-1606575584664-part-r-00000\",\n",
    "    \"../data/csv/run-1606575584664-part-r-00001\",\n",
    "    \"../data/csv/run-1606575584664-part-r-00002\",\n",
    "    \"../data/csv/run-1606575584664-part-r-00003\",\n",
    "    \"../data/csv/run-1606575584664-part-r-00004\",\n",
    "    \"../data/csv/run-1606575584664-part-r-00005\",\n",
    "    \"../data/csv/run-1606575584664-part-r-00006\",\n",
    "    \"../data/csv/run-1606575584664-part-r-00007\",\n",
    "    \"../data/csv/run-1606575584664-part-r-00008\",\n",
    "    \"../data/csv/run-1606575584664-part-r-00009\",\n",
    "    \"../data/csv/run-1606575584664-part-r-00010\",\n",
    "    \"../data/csv/run-1606575584664-part-r-00011\"\n",
    "]\n",
    "dfs = []\n",
    "for path in paths:\n",
    "    df_ = pd.read_csv(path, engine='c')\n",
    "    dfs.append(df_)\n",
    "df = pd.concat(dfs)"
   ]
  },
  {
   "cell_type": "code",
   "execution_count": 3,
   "metadata": {},
   "outputs": [
    {
     "output_type": "execute_result",
     "data": {
      "text/plain": [
       "(17597, 9)"
      ]
     },
     "metadata": {},
     "execution_count": 3
    }
   ],
   "source": [
    "df.shape"
   ]
  },
  {
   "cell_type": "code",
   "execution_count": 4,
   "metadata": {},
   "outputs": [],
   "source": [
    "regrex_pattern = re.compile(pattern = \"[\"\n",
    "        u\"\\U0001F600-\\U0001F64F\"  # emoticons\n",
    "        u\"\\U0001F300-\\U0001F5FF\"  # symbols & pictographs\n",
    "        u\"\\U0001F680-\\U0001F6FF\"  # transport & map symbols\n",
    "        u\"\\U0001F1E0-\\U0001F1FF\"  # flags (iOS)\n",
    "                           \"]+\", flags = re.UNICODE)\n",
    "\n",
    "# stemmer español\n",
    "stemmer = SnowballStemmer('english')"
   ]
  },
  {
   "cell_type": "code",
   "execution_count": 5,
   "metadata": {},
   "outputs": [],
   "source": [
    "def clean(texto):\n",
    "    texto = str(texto)\n",
    "    texto = texto.lower()\n",
    "    texto = ' '.join(s for s in texto.split() if not any(c.isdigit() for c in s))\n",
    "    texto = re.sub(\"[.*?]\",\"\",texto)\n",
    "    texto = re.sub('https?://\\S+|WWW\\.\\S+','',texto)\n",
    "    texto = re.sub(\"<.*?>+\",\"\",texto)\n",
    "    texto = re.sub(\"``\",\"\",texto)\n",
    "    texto = re.sub(\"''\",\"\",texto)\n",
    "    texto = regrex_pattern.sub(r'',texto)\n",
    "    texto = re.sub('[!@#$%]', '', texto)\n",
    "    \n",
    "    return texto"
   ]
  },
  {
   "cell_type": "code",
   "execution_count": 6,
   "metadata": {},
   "outputs": [],
   "source": [
    "def stem_tokens(tokens, stemmer):\n",
    "    stemmed = []\n",
    "    for item in tokens:\n",
    "        stemmed.append(stemmer.stem(item))\n",
    "    return stemmed"
   ]
  },
  {
   "cell_type": "code",
   "execution_count": 7,
   "metadata": {},
   "outputs": [],
   "source": [
    "df['clean_keyword'] = df['keyword'].apply(lambda x: clean(x))\n",
    "df['keyword'] = stem_tokens(df['clean_keyword'].astype(str),stemmer)"
   ]
  },
  {
   "cell_type": "code",
   "execution_count": 8,
   "metadata": {},
   "outputs": [],
   "source": [
    "df = pd.get_dummies(df, prefix='keyword', columns=['keyword'])"
   ]
  },
  {
   "cell_type": "code",
   "execution_count": 9,
   "metadata": {},
   "outputs": [],
   "source": [
    "df['finished_lemma'] = df['finished_lemma'].astype(str)\n",
    "df['target'] = df['target'].apply(lambda x: int(x) if str(x) == '0' or str(x) == '1' else 2)\n",
    "df = df[df['target'] <= 1]"
   ]
  },
  {
   "cell_type": "code",
   "execution_count": 10,
   "metadata": {},
   "outputs": [],
   "source": [
    "tokenizer = Tokenizer(num_words=100000, oov_token=\"<OOV>\")\n",
    "tokenizer.fit_on_texts(df[\"finished_lemma\"])\n",
    "word_index = tokenizer.word_index"
   ]
  },
  {
   "cell_type": "code",
   "execution_count": 11,
   "metadata": {},
   "outputs": [],
   "source": [
    "df[\"sequences\"] = tokenizer.texts_to_sequences(df[\"finished_lemma\"])"
   ]
  },
  {
   "cell_type": "code",
   "execution_count": 12,
   "metadata": {},
   "outputs": [
    {
     "output_type": "stream",
     "name": "stdout",
     "text": [
      "tweet con mas tokens 23\n"
     ]
    }
   ],
   "source": [
    "max_ = 0\n",
    "for i in list(df[\"sequences\"].values):\n",
    "    if len(i) > max_:\n",
    "        max_ = len(i)\n",
    "print(\"tweet con mas tokens\", max_)"
   ]
  },
  {
   "cell_type": "code",
   "execution_count": 13,
   "metadata": {},
   "outputs": [],
   "source": [
    "df[\"sequences\"] = pad_sequences(df[\"sequences\"], maxlen=max_, padding=\"post\").tolist()"
   ]
  },
  {
   "cell_type": "code",
   "execution_count": 14,
   "metadata": {},
   "outputs": [],
   "source": [
    "from sklearn.decomposition import TruncatedSVD\n",
    "\n",
    "# SVD represent documents and terms in vectors \n",
    "svd_model = TruncatedSVD(n_components=15, algorithm='randomized', n_iter=100, random_state=122)\n",
    "\n",
    "sequences_reduced = svd_model.fit_transform(df[\"sequences\"].values.tolist())\n",
    "df['sequences_reduced'] = sequences_reduced.tolist()"
   ]
  },
  {
   "cell_type": "code",
   "execution_count": 15,
   "metadata": {},
   "outputs": [],
   "source": [
    "df['sequences_reduced'] = df['sequences_reduced'].apply(lambda x: ' '.join([str(elem) for elem in x]))\n",
    "df['sequences'] = df['sequences'].apply(lambda x: ' '.join([str(elem) for elem in x]))"
   ]
  },
  {
   "cell_type": "code",
   "execution_count": 16,
   "metadata": {},
   "outputs": [],
   "source": [
    "df['location'] = df['location'].fillna(' ')"
   ]
  },
  {
   "cell_type": "code",
   "execution_count": 17,
   "metadata": {},
   "outputs": [],
   "source": [
    "def replace_emoji(row):\n",
    "    return emoji.demojize(row['location'], delimiters=(\"\", \" \"))\n",
    "\n",
    "df['location_emoji'] = df.apply(lambda row: replace_emoji(row), axis=1)"
   ]
  },
  {
   "cell_type": "code",
   "execution_count": 18,
   "metadata": {},
   "outputs": [],
   "source": [
    "def replace_chars(row):\n",
    "    res = re.sub('[^a-zA-Z ]', '', row['location_emoji'])\n",
    "    res = res.replace(\"  \", \" \")\n",
    "    return res\n",
    "\n",
    "df['location_chars'] = df.apply(lambda row: replace_chars(row), axis=1)"
   ]
  },
  {
   "cell_type": "code",
   "execution_count": 19,
   "metadata": {},
   "outputs": [],
   "source": [
    "def get_countries(row):\n",
    "    res = list(GeoText(row['location_chars']).country_mentions.keys())\n",
    "    return res[0] if len(res) >= 1 else ''\n",
    "\n",
    "df['country'] = df.apply(lambda row: get_countries(row), axis=1)"
   ]
  },
  {
   "cell_type": "code",
   "execution_count": 20,
   "metadata": {},
   "outputs": [],
   "source": [
    "def get_cities(row):\n",
    "    res = GeoText(row['location_chars']).cities\n",
    "    return res[0] if len(res) >= 1 else ''\n",
    "\n",
    "df['city'] = df.apply(lambda row: get_cities(row), axis=1)"
   ]
  },
  {
   "cell_type": "code",
   "execution_count": 23,
   "metadata": {},
   "outputs": [],
   "source": [
    "df.drop(columns=['location', 'location_emoji', 'location_chars'], inplace=True)"
   ]
  },
  {
   "cell_type": "code",
   "execution_count": 24,
   "metadata": {},
   "outputs": [],
   "source": [
    "df.to_csv('clean_data.csv')"
   ]
  },
  {
   "cell_type": "code",
   "execution_count": null,
   "metadata": {},
   "outputs": [],
   "source": []
  }
 ]
}